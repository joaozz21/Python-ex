{
  "nbformat": 4,
  "nbformat_minor": 0,
  "metadata": {
    "colab": {
      "provenance": [],
      "authorship_tag": "ABX9TyN7yEhZSfhR6Nv/h/t3IZhE",
      "include_colab_link": true
    },
    "kernelspec": {
      "name": "python3",
      "display_name": "Python 3"
    },
    "language_info": {
      "name": "python"
    }
  },
  "cells": [
    {
      "cell_type": "markdown",
      "metadata": {
        "id": "view-in-github",
        "colab_type": "text"
      },
      "source": [
        "<a href=\"https://colab.research.google.com/github/joaozz21/Python-ex/blob/main/Lista03.ipynb\" target=\"_parent\"><img src=\"https://colab.research.google.com/assets/colab-badge.svg\" alt=\"Open In Colab\"/></a>"
      ]
    },
    {
      "cell_type": "markdown",
      "source": [
        "1.  Uma pessoa quer viajar de carro para um ponto (x, y) partindo do ponto (0,0).  Suponha que a escala esta em quilometros. Ela quer saber se consegue fazer a viagem com o combustıvel que ja esta no carro. O seu programa deve ler do usuario as seguintes entradas (todos numeros reais):\n",
        "\n",
        "  - A coordenada x;\n",
        "  - A coordenada y;\n",
        "  - A eficiencia do carro do usuario (em quilometros por litro);\n",
        "  - A quantidade de litros de combustıvel no carro.\n",
        "\n",
        "  Depois de feita a leitura desses dados, o programa deve imprimir S se a quantidade de litros e suficiente. Caso contrario,imprimir N.\n",
        "  \n",
        "  Observacao: para calcular a distancia entre os pontos (0,0) e (x, y),  utilize a distancia Euclidiana, que e dada por √(x^2+y^2).\n",
        "\n",
        "  Aqui um exemplo: para (x, y) = (−60.6,30.5), a eficiencia do carro do usuario igual a 13.7 e a quantidade de litros de combustıvel no carro igual a 5.0 (os dados sao lidos nesta ordem).\n",
        "\n",
        "  ## Entradas (via comandoinput):\n",
        "  -60.6\n",
        "\n",
        "  30.5\n",
        "\n",
        "  13.7\n",
        "\n",
        "  5.0\n",
        "  ## Saıda:\n",
        "  S"
      ],
      "metadata": {
        "id": "RlZ2bFdBgCOw"
      }
    },
    {
      "cell_type": "code",
      "execution_count": 10,
      "metadata": {
        "colab": {
          "base_uri": "https://localhost:8080/"
        },
        "id": "rLPugXz9f88h",
        "outputId": "4a847961-c717-47ae-bd61-2a588cca8c5e"
      },
      "outputs": [
        {
          "output_type": "stream",
          "name": "stdout",
          "text": [
            "x= -60.6\n",
            "y= 30.5\n",
            "eficiência do carro= 13.7\n",
            "litros de combustível= 5\n",
            "S\n"
          ]
        }
      ],
      "source": [
        "x=float(input(\"x= \"))\n",
        "y=float(input(\"y= \"))\n",
        "efic=float(input(\"eficiência do carro= \"))\n",
        "combust=float(input(\"litros de combustível= \"))\n",
        "dist= (x**2+y**2)**0.5\n",
        "\n",
        "\n",
        "if dist <= combust*efic:\n",
        "  print(\"S\")\n",
        "else: print(\"N\")"
      ]
    },
    {
      "cell_type": "markdown",
      "source": [
        "2.  Escreva um programa que leia dois numeros e informe a qual subconjunto a diferenca deles pertence de acordo com os seguintes intervalos:\n",
        "\n",
        "Intervalo: [ 1, 24 ] Subconjunto: Verde\n",
        "\n",
        "Intervalo: [ 25, 45 ] Subconjunto: Vermelho\n",
        "\n",
        "Intervalo [ 46, 86 ] Subconjunto: Prata\n",
        "\n",
        "Intervalo [ 87, 263 ] Subconjunto: Turquesa\n",
        "\n",
        "Caso a diferenca esteja abaixo de 1 informar Subconjunto: Branco e se estiver acima de 263 informar Subconjunto: Preto.\n",
        "\n",
        "Obs.:imprima a saıda, conforme ilustrado no exemplo abaixo.\n",
        "\n",
        "## Entrada:\n",
        "43\n",
        "\n",
        "25\n",
        "## Saıda:\n",
        "a diferenca de 43 e 25 = 18\n",
        "\n",
        "Subconjunto: Verde"
      ],
      "metadata": {
        "id": "109Xf2XAQap9"
      }
    },
    {
      "cell_type": "code",
      "source": [
        "num1=int(input())\n",
        "num2=int(input())\n",
        "dif=num1-num2\n",
        "Sub=str(\"\")\n",
        "\n",
        "if dif < 1:\n",
        "  Sub=\"Branco\"\n",
        "  print(f\"a diferença de {num1} e {num2} = {dif}\\nSubconjunto: {Sub}\")\n",
        "elif dif >= 1 and dif <= 24 :\n",
        "  Sub=\"Verde\"\n",
        "  print(f\"a diferença de {num1} e {num2} = {dif}\\nSubconjunto: {Sub}\")\n",
        "elif dif >= 25 and dif <= 45 :\n",
        "  Sub=\"Vermelho\"\n",
        "  print(f\"a diferença de {num1} e {num2} = {dif}\\nSubconjunto: {Sub}\")\n",
        "elif dif >= 46 and dif <= 86 :\n",
        "  Sub=\"Prata\"\n",
        "  print(f\"a diferença de {num1} e {num2} = {dif}\\nSubconjunto: {Sub}\")\n",
        "elif dif >= 87 and dif <= 263 :\n",
        "  Sub=\"Turquesa\"\n",
        "  print(f\"a diferença de {num1} e {num2} = {dif}\\nSubconjunto: {Sub}\")\n",
        "elif dif > 263 :\n",
        "  Sub=\"Preto\"\n",
        "  print(f\"a diferença de {num1} e {num2} = {dif}\\nSubconjunto: {Sub}\")\n"
      ],
      "metadata": {
        "colab": {
          "base_uri": "https://localhost:8080/"
        },
        "id": "PlRR7zMrS6uv",
        "outputId": "4a6517c6-1abd-4ad2-90a7-afba3a1183c7"
      },
      "execution_count": 18,
      "outputs": [
        {
          "output_type": "stream",
          "name": "stdout",
          "text": [
            "45\n",
            "45\n",
            "a diferença de 45 e 45 = 0\n",
            "Subconjunto: Branco\n"
          ]
        }
      ]
    },
    {
      "cell_type": "markdown",
      "source": [
        "3.  Elabore um programa para ler 4 numeros inteiros. O programa deve imprimir apenas o maior resto desses numeros por 2.\n",
        "\n",
        "  Obs.: imprima a saıda, conforme ilustrado no exemplo abaixo. Nao pode usar bibliotecas, apenas condicionais.\n",
        "  ## Entrada:\n",
        "  5\n",
        "  \n",
        "  5\n",
        "  \n",
        "  4\n",
        "  \n",
        "  4\n",
        "  ## Saıda:\n",
        "  1"
      ],
      "metadata": {
        "id": "5xlcPfk7zyea"
      }
    },
    {
      "cell_type": "code",
      "source": [
        "n1= int(input())\n",
        "n2= int(input())\n",
        "n3= int(input())\n",
        "n4= int(input())\n",
        "resto=n1%2\n",
        "\n",
        "if resto <= n2%2:\n",
        "  resto=n2%2\n",
        "elif resto <= n3%2:\n",
        "  resto=n3%2\n",
        "elif resto < n4%2:\n",
        "  resto=n4%2\n",
        "print(resto)\n"
      ],
      "metadata": {
        "colab": {
          "base_uri": "https://localhost:8080/"
        },
        "id": "vh71o-TX0eRR",
        "outputId": "d3ba16ce-d738-4536-c47e-69b6ef63c430"
      },
      "execution_count": 25,
      "outputs": [
        {
          "output_type": "stream",
          "name": "stdout",
          "text": [
            "5\n",
            "5\n",
            "1\n",
            "1\n",
            "1\n"
          ]
        }
      ]
    },
    {
      "cell_type": "markdown",
      "source": [
        "4.  Faca um programa para ler um numero que e um codigo de usuario. O programa deve ler tambem outro valor que e a senha. Ambos do tipo inteiro.\n",
        "\n",
        "  Fazer um metodo chamado validaAcesso, recebendo esses dois numeros e retornando uma mensagem, como segue: Caso o codigo seja diferente de um codigo armazenado internamente (igual a 94837) deve retornar a  mensagem  ‘Usuario  invalido!’. Se a senha lida estiver incorreta (a  certa e 9958734) deve retornar a mensagem ‘senha incorreta’. Caso a senha esteja correta, deve ser retornada a mensagem ‘Acesso permitido’.\n",
        "  \n",
        "  Chamar esse metodo no modulo principal e imprimir a mensagens, como nos casos de teste abaixo.\n",
        "  \n",
        "  ## Entrada:\n",
        "  84837\n",
        "  \n",
        "  992784\n",
        "  ## Saıda:\n",
        "  Codigo: 84837\n",
        "\n",
        "  Senha: 992784\n",
        "\n",
        "  Saıda: Usuario invalido!"
      ],
      "metadata": {
        "id": "scOQc8hD-VCR"
      }
    },
    {
      "cell_type": "code",
      "source": [
        "def validaAcesso() -> str:\n",
        "  cod=int(input())\n",
        "  senha=int(input())\n",
        "\n",
        "  if cod != 94837:\n",
        "    print(f\"Código: {cod}\\nSenha: {senha}\\nSaída: Usuario invalido!\")\n",
        "  elif cod == 94837 and senha != 9958734:\n",
        "    print(f\"Código: {cod}\\nSenha: {senha}\\nSaída: senha incorreta\")\n",
        "  else: print(f\"Código: {cod}\\nSenha: {senha}\\nSaída: acesso permitido\")\n",
        "\n",
        "validaAcesso()\n",
        ""
      ],
      "metadata": {
        "colab": {
          "base_uri": "https://localhost:8080/"
        },
        "id": "-VFPfo3Y_9Go",
        "outputId": "0bd77f7c-0cd3-49b4-bead-9dfbc8c65f8f"
      },
      "execution_count": 27,
      "outputs": [
        {
          "output_type": "stream",
          "name": "stdout",
          "text": [
            "94837\n",
            "9958734\n",
            "Código: 94837\n",
            "Senha: 9958734\n",
            "Saída: acesso permitido\n"
          ]
        }
      ]
    }
  ]
}