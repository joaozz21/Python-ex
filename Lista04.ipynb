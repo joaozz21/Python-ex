{
  "cells": [
    {
      "cell_type": "markdown",
      "metadata": {
        "id": "view-in-github",
        "colab_type": "text"
      },
      "source": [
        "<a href=\"https://colab.research.google.com/github/joaozz21/Python-ex/blob/main/Lista04.ipynb\" target=\"_parent\"><img src=\"https://colab.research.google.com/assets/colab-badge.svg\" alt=\"Open In Colab\"/></a>"
      ]
    },
    {
      "cell_type": "markdown",
      "metadata": {
        "id": "4kgX8EIR_3fI"
      },
      "source": [
        "1.  Faca um programa que:\n",
        "\n",
        "  1) Recebe 10 numeros inteiros usando input (um de cada vez).\n",
        "  \n",
        "  2) Diz quantos numeros sao positivos, negativos e quantos sao iguais a zero.  \n",
        "  Imprima a quantidade de numeros positivos em uma linha, a de numeros negativos na seguinte e a de zeros na seguinte.\n",
        "  \n",
        "  Por exemplo, se o usuario digitar:\n",
        "  2\n",
        "  -1\n",
        "  0\n",
        "  1\n",
        "  1\n",
        "  0\n",
        "  3\n",
        "  -4\n",
        "  5\n",
        "  0\n",
        "  \n",
        "  Voce deve imprimir:\n",
        "  5\n",
        "  2\n",
        "  3"
      ]
    },
    {
      "cell_type": "code",
      "execution_count": null,
      "metadata": {
        "colab": {
          "base_uri": "https://localhost:8080/"
        },
        "id": "kGVVcfWoeeqi",
        "outputId": "feea54d1-4299-47ad-c6c2-d75d08816149"
      },
      "outputs": [
        {
          "name": "stdout",
          "output_type": "stream",
          "text": [
            "1\n",
            "2\n",
            "3\n",
            "4\n",
            "5\n",
            "6\n",
            "-2\n",
            "-3\n",
            "0\n",
            "1\n",
            "\n",
            "7\n",
            "2\n",
            "1\n"
          ]
        }
      ],
      "source": [
        "n1=int(input())\n",
        "n2=int(input())\n",
        "n3=int(input())\n",
        "n4=int(input())\n",
        "n5=int(input())\n",
        "n6=int(input())\n",
        "n7=int(input())\n",
        "n8=int(input())\n",
        "n9=int(input())\n",
        "n10=int(input())\n",
        "\n",
        "positivos=0\n",
        "negativos=0\n",
        "zeros=0\n",
        "\n",
        "for i in [n1,n2,n3,n4,n5,n6,n7,n8,n9,n10]:\n",
        "  if i > 0:\n",
        "    positivos += 1\n",
        "  if i < 0:\n",
        "    negativos += 1\n",
        "  if i == 0:\n",
        "    zeros += 1\n",
        "\n",
        "print(f\"\\n{positivos}\\n{negativos}\\n{zeros}\")"
      ]
    },
    {
      "cell_type": "markdown",
      "metadata": {
        "id": "bhgNRi00AkiA"
      },
      "source": [
        "2.  Faca um programa que:\n",
        "\n",
        "  1) recebe um numero n do usuario (via input);\n",
        "\n",
        "  2) recebe n numeros inteiros do usuario e calcula a soma de seus quadrados;\n",
        "\n",
        "  3) imprime a resposta como no exemplo abaixo.\n",
        "\n",
        "  Exemplo: Se o usuario digitar 4, entao ele ira em seguida digitar 4 numeros (que devem ser lidos um de cada vez com o input).\n",
        "  Entao, se por exemplo os numeros digitados forem 2, 3, 1, 5, a resposta sera 4 + 9 + 1 + 25 = 39;\n",
        "  \n",
        "  portanto, devera ser impresso o numero 39 (o resultado final).  \n",
        "  \n",
        "  Imprima sem casas decimais pois assumimos que todos os numeros recebidos sao inteiros"
      ]
    },
    {
      "cell_type": "code",
      "execution_count": null,
      "metadata": {
        "colab": {
          "base_uri": "https://localhost:8080/"
        },
        "id": "jv4QBeWxO_xV",
        "outputId": "e09a7b35-bac1-4be5-ee99-a3c0ae87bb89"
      },
      "outputs": [
        {
          "name": "stdout",
          "output_type": "stream",
          "text": [
            "4\n",
            "1\n",
            "2\n",
            "3\n",
            "4\n",
            "30\n"
          ]
        }
      ],
      "source": [
        "x=int(input())\n",
        "nums=0\n",
        "y=0\n",
        "while nums != x:\n",
        "    y+=int(input())**2\n",
        "    nums+=1\n",
        "print(y)"
      ]
    },
    {
      "cell_type": "markdown",
      "metadata": {
        "id": "HTP3eTEqBbop"
      },
      "source": [
        "3. Escreva um programa que le do teclado (com comando input):\n",
        "  - um numero inteiro, representando a populacao de uma cidade (vamos denotar este numero por P);\n",
        "  - um numero real (float), maior que 1, representando a taxa de contagio por gripe nessa cidade (vamos denotar este numero por TxContagio). Assuma que o usuario sempre digitara um valor maior que 1 para a TxContagio, isto e, nao precisa verificar.\n",
        "  \n",
        "  Agora vamos denotar o numero de pessoas contaminadas num dia i por Cti.  Considere ainda que no dia de hoje, o dia 0 de estudo, ou seja, i= 0, essa cidade tem exatos Ct0= 1584 contaminados. Considere tambem:\n",
        "  \n",
        "  i) Somente pessoas que foram infectadas no dia i−1 podem infectar pessoas no dia i (ou seja, Cti = Cti−1 ∗ TxContagio), para 0 < i ≤ NumDiasImunidade, onde NumDiasImunidade e o numero de dias para conseguir a imunidade coletiva.\n",
        "  \n",
        "  ii) Qualquer pessoa ja contaminada vai sobreviver e ter imunidade pelo resto do tempo dentro do modelo.\n",
        "  \n",
        "  iii) O calculo do numero de pessoas imunizadas na cidade e cumulativo, por exemplo, o numero de pessoas imunizadas no dia numero 5  e igual a Ct0+Ct1+Ct2+Ct3+Ct4+Ct5.\n",
        "  \n",
        "  iv) A imunidade coletiva nessa populacao ocorrera quando o numero de contaminados for maior ou igual a 70.0% da populacao. Em outras palavras, as contaminacoes continuam ocorrendo enquanto o numero de pessoas imunizadas for menor do que 0.7∗P.\n",
        "  \n",
        "  Dadas a populacao da cidade e a taxa de contagio (lidas via comando input), o seu programa deve imprimir em quantos dias a cidade atingira a imunidade coletiva. Abaixo um exemplo com os formatos de entrada e saıda.\n",
        "  \n",
        "  ## Exemplo de entrada lida com o comando input:\n",
        "  \n",
        "  1437000\n",
        "  \n",
        "  1.44\n",
        "  \n",
        "  ## Formatar a sua resposta exatamente como no seguinte exemplo:\n",
        "   A cidade conseguiu imunidade coletiva em 15 dias"
      ]
    },
    {
      "cell_type": "code",
      "execution_count": null,
      "metadata": {
        "colab": {
          "base_uri": "https://localhost:8080/"
        },
        "id": "iSwG3t9bQMcR",
        "outputId": "3320e148-5dbc-41c9-b223-e88aeec01544"
      },
      "outputs": [
        {
          "name": "stdout",
          "output_type": "stream",
          "text": [
            "1437000\n",
            "1.44\n",
            "A cidade conseguiu imunidade coletiva em 15 dias.\n"
          ]
        }
      ],
      "source": [
        "P = int(input())\n",
        "TxContagio = float(input())\n",
        "\n",
        "Ct0 = 1584\n",
        "NumDiasImunidade = 0\n",
        "imunizados = Ct0\n",
        "\n",
        "while imunizados < 0.7 * P:\n",
        "    NumDiasImunidade += 1\n",
        "    Cti = Ct0 * (TxContagio ** NumDiasImunidade)\n",
        "    imunizados += Cti\n",
        "\n",
        "print(f\"A cidade conseguiu imunidade coletiva em {NumDiasImunidade} dias.\")\n",
        "\n",
        "\n",
        "\n",
        "\n",
        "\n"
      ]
    },
    {
      "cell_type": "code",
      "execution_count": null,
      "metadata": {
        "colab": {
          "base_uri": "https://localhost:8080/",
          "height": 252
        },
        "id": "oXAhQ3_wESsa",
        "outputId": "2b2bd1ff-95b8-466a-ea37-9f78f0d1dd16"
      },
      "outputs": [
        {
          "name": "stdout",
          "output_type": "stream",
          "text": [
            "860\n"
          ]
        },
        {
          "ename": "IndexError",
          "evalue": "ignored",
          "output_type": "error",
          "traceback": [
            "\u001b[0;31m---------------------------------------------------------------------------\u001b[0m",
            "\u001b[0;31mIndexError\u001b[0m                                Traceback (most recent call last)",
            "\u001b[0;32m<ipython-input-3-7f2149bcc8e2>\u001b[0m in \u001b[0;36m<cell line: 7>\u001b[0;34m()\u001b[0m\n\u001b[1;32m     12\u001b[0m     \u001b[0;32mif\u001b[0m \u001b[0mvalor_compra\u001b[0m \u001b[0;34m>\u001b[0m \u001b[0;36m327\u001b[0m\u001b[0;34m:\u001b[0m\u001b[0;34m\u001b[0m\u001b[0;34m\u001b[0m\u001b[0m\n\u001b[1;32m     13\u001b[0m         \u001b[0mtotal_participantes\u001b[0m \u001b[0;34m+=\u001b[0m \u001b[0;36m1\u001b[0m\u001b[0;34m\u001b[0m\u001b[0;34m\u001b[0m\u001b[0m\n\u001b[0;32m---> 14\u001b[0;31m         \u001b[0mtent1\u001b[0m \u001b[0;34m=\u001b[0m \u001b[0mint\u001b[0m\u001b[0;34m(\u001b[0m\u001b[0mentrada\u001b[0m\u001b[0;34m[\u001b[0m\u001b[0;36m1\u001b[0m\u001b[0;34m]\u001b[0m\u001b[0;34m)\u001b[0m\u001b[0;34m\u001b[0m\u001b[0;34m\u001b[0m\u001b[0m\n\u001b[0m\u001b[1;32m     15\u001b[0m         \u001b[0mtent2\u001b[0m \u001b[0;34m=\u001b[0m \u001b[0mint\u001b[0m\u001b[0;34m(\u001b[0m\u001b[0mentrada\u001b[0m\u001b[0;34m[\u001b[0m\u001b[0;36m2\u001b[0m\u001b[0;34m]\u001b[0m\u001b[0;34m)\u001b[0m\u001b[0;34m\u001b[0m\u001b[0;34m\u001b[0m\u001b[0m\n\u001b[1;32m     16\u001b[0m         \u001b[0;32mif\u001b[0m \u001b[0mtent1\u001b[0m \u001b[0;34m+\u001b[0m \u001b[0mtent2\u001b[0m \u001b[0;34m>\u001b[0m \u001b[0;36m9\u001b[0m\u001b[0;34m:\u001b[0m\u001b[0;34m\u001b[0m\u001b[0;34m\u001b[0m\u001b[0m\n",
            "\u001b[0;31mIndexError\u001b[0m: list index out of range"
          ]
        }
      ],
      "source": [
        "premio = 2347\n",
        "total_participantes = 0\n",
        "qmais = 0\n",
        "qsetor6 = 0\n",
        "clientes_max_327 = 0\n",
        "\n",
        "while premio > 0:\n",
        "    entrada = input().split(',')\n",
        "    if not entrada[0]:\n",
        "        break\n",
        "    valor_compra = int(entrada[0])\n",
        "    if valor_compra > 327:\n",
        "        total_participantes += 1\n",
        "        tent1 = int(entrada[1])\n",
        "        tent2 = int(entrada[2])\n",
        "        if tent1 + tent2 > 9:\n",
        "            qmais += 1\n",
        "            premio -= 1092\n",
        "        if tent1 == 6:\n",
        "            qsetor6 += 1\n",
        "            premio -= 528\n",
        "        print(f'{valor_compra:5d} {tent1:5d} {tent2:5d} {total_participantes:5d} {qmais:5d} {qsetor6:7d} {premio:6d}')\n",
        "    else:\n",
        "        clientes_max_327 += 1\n",
        "\n",
        "print(f'Premio =   {2347}')\n",
        "print(f'Total de participantes =      {total_participantes}')\n",
        "print(f'Quant. clientes gastaram no maximo 327.00  =      {clientes_max_327}')\n",
        "print(f'Clientes acertaram 6 na 1a tent. =      {qsetor6}')\n",
        "print(f'Porcentagem clientes acertaram mais que  9 =   {(qmais / total_participantes) * 100:.1f}')\n",
        "\n"
      ]
    }
  ],
  "metadata": {
    "colab": {
      "provenance": [],
      "mount_file_id": "1xgwPXksBijYcoLJi9WGSuSjszGo2O9cV",
      "authorship_tag": "ABX9TyPWsjGA4iuZ4WuweU+FBXYV",
      "include_colab_link": true
    },
    "kernelspec": {
      "display_name": "Python 3",
      "name": "python3"
    },
    "language_info": {
      "name": "python"
    }
  },
  "nbformat": 4,
  "nbformat_minor": 0
}