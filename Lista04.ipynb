{
  "cells": [
    {
      "cell_type": "markdown",
      "metadata": {
        "id": "view-in-github",
        "colab_type": "text"
      },
      "source": [
        "<a href=\"https://colab.research.google.com/github/joaozz21/Python-ex/blob/main/Lista04.ipynb\" target=\"_parent\"><img src=\"https://colab.research.google.com/assets/colab-badge.svg\" alt=\"Open In Colab\"/></a>"
      ]
    },
    {
      "cell_type": "markdown",
      "metadata": {
        "id": "4kgX8EIR_3fI"
      },
      "source": [
        "1.  Faca um programa que:\n",
        "\n",
        "  1) Recebe 10 numeros inteiros usando input (um de cada vez).\n",
        "  \n",
        "  2) Diz quantos numeros sao positivos, negativos e quantos sao iguais a zero.  \n",
        "  Imprima a quantidade de numeros positivos em uma linha, a de numeros negativos na seguinte e a de zeros na seguinte.\n",
        "  \n",
        "  Por exemplo, se o usuario digitar:\n",
        "  2\n",
        "  -1\n",
        "  0\n",
        "  1\n",
        "  1\n",
        "  0\n",
        "  3\n",
        "  -4\n",
        "  5\n",
        "  0\n",
        "  \n",
        "  Voce deve imprimir:\n",
        "  5\n",
        "  2\n",
        "  3"
      ]
    },
    {
      "cell_type": "code",
      "execution_count": null,
      "metadata": {
        "colab": {
          "base_uri": "https://localhost:8080/"
        },
        "id": "kGVVcfWoeeqi",
        "outputId": "feea54d1-4299-47ad-c6c2-d75d08816149"
      },
      "outputs": [
        {
          "name": "stdout",
          "output_type": "stream",
          "text": [
            "1\n",
            "2\n",
            "3\n",
            "4\n",
            "5\n",
            "6\n",
            "-2\n",
            "-3\n",
            "0\n",
            "1\n",
            "\n",
            "7\n",
            "2\n",
            "1\n"
          ]
        }
      ],
      "source": [
        "n1=int(input())\n",
        "n2=int(input())\n",
        "n3=int(input())\n",
        "n4=int(input())\n",
        "n5=int(input())\n",
        "n6=int(input())\n",
        "n7=int(input())\n",
        "n8=int(input())\n",
        "n9=int(input())\n",
        "n10=int(input())\n",
        "\n",
        "positivos=0\n",
        "negativos=0\n",
        "zeros=0\n",
        "\n",
        "for i in [n1,n2,n3,n4,n5,n6,n7,n8,n9,n10]:\n",
        "  if i > 0:\n",
        "    positivos += 1\n",
        "  if i < 0:\n",
        "    negativos += 1\n",
        "  if i == 0:\n",
        "    zeros += 1\n",
        "\n",
        "print(f\"\\n{positivos}\\n{negativos}\\n{zeros}\")"
      ]
    },
    {
      "cell_type": "markdown",
      "metadata": {
        "id": "bhgNRi00AkiA"
      },
      "source": [
        "2.  Faca um programa que:\n",
        "\n",
        "  1) recebe um numero n do usuario (via input);\n",
        "\n",
        "  2) recebe n numeros inteiros do usuario e calcula a soma de seus quadrados;\n",
        "\n",
        "  3) imprime a resposta como no exemplo abaixo.\n",
        "\n",
        "  Exemplo: Se o usuario digitar 4, entao ele ira em seguida digitar 4 numeros (que devem ser lidos um de cada vez com o input).\n",
        "  Entao, se por exemplo os numeros digitados forem 2, 3, 1, 5, a resposta sera 4 + 9 + 1 + 25 = 39;\n",
        "  \n",
        "  portanto, devera ser impresso o numero 39 (o resultado final).  \n",
        "  \n",
        "  Imprima sem casas decimais pois assumimos que todos os numeros recebidos sao inteiros"
      ]
    },
    {
      "cell_type": "code",
      "execution_count": null,
      "metadata": {
        "colab": {
          "base_uri": "https://localhost:8080/"
        },
        "id": "jv4QBeWxO_xV",
        "outputId": "e09a7b35-bac1-4be5-ee99-a3c0ae87bb89"
      },
      "outputs": [
        {
          "name": "stdout",
          "output_type": "stream",
          "text": [
            "4\n",
            "1\n",
            "2\n",
            "3\n",
            "4\n",
            "30\n"
          ]
        }
      ],
      "source": [
        "x=int(input())\n",
        "nums=0\n",
        "y=0\n",
        "while nums != x:\n",
        "    y+=int(input())**2\n",
        "    nums+=1\n",
        "print(y)"
      ]
    },
    {
      "cell_type": "markdown",
      "metadata": {
        "id": "HTP3eTEqBbop"
      },
      "source": [
        "3. Escreva um programa que le do teclado (com comando input):\n",
        "  - um numero inteiro, representando a populacao de uma cidade (vamos denotar este numero por P);\n",
        "  - um numero real (float), maior que 1, representando a taxa de contagio por gripe nessa cidade (vamos denotar este numero por TxContagio). Assuma que o usuario sempre digitara um valor maior que 1 para a TxContagio, isto e, nao precisa verificar.\n",
        "  \n",
        "  Agora vamos denotar o numero de pessoas contaminadas num dia i por Cti.  Considere ainda que no dia de hoje, o dia 0 de estudo, ou seja, i= 0, essa cidade tem exatos Ct0= 1584 contaminados. Considere tambem:\n",
        "  \n",
        "  i) Somente pessoas que foram infectadas no dia i−1 podem infectar pessoas no dia i (ou seja, Cti = Cti−1 ∗ TxContagio), para 0 < i ≤ NumDiasImunidade, onde NumDiasImunidade e o numero de dias para conseguir a imunidade coletiva.\n",
        "  \n",
        "  ii) Qualquer pessoa ja contaminada vai sobreviver e ter imunidade pelo resto do tempo dentro do modelo.\n",
        "  \n",
        "  iii) O calculo do numero de pessoas imunizadas na cidade e cumulativo, por exemplo, o numero de pessoas imunizadas no dia numero 5  e igual a Ct0+Ct1+Ct2+Ct3+Ct4+Ct5.\n",
        "  \n",
        "  iv) A imunidade coletiva nessa populacao ocorrera quando o numero de contaminados for maior ou igual a 70.0% da populacao. Em outras palavras, as contaminacoes continuam ocorrendo enquanto o numero de pessoas imunizadas for menor do que 0.7∗P.\n",
        "  \n",
        "  Dadas a populacao da cidade e a taxa de contagio (lidas via comando input), o seu programa deve imprimir em quantos dias a cidade atingira a imunidade coletiva. Abaixo um exemplo com os formatos de entrada e saıda.\n",
        "  \n",
        "  ## Exemplo de entrada lida com o comando input:\n",
        "  \n",
        "  1437000\n",
        "  \n",
        "  1.44\n",
        "  \n",
        "  ## Formatar a sua resposta exatamente como no seguinte exemplo:\n",
        "   A cidade conseguiu imunidade coletiva em 15 dias"
      ]
    },
    {
      "cell_type": "code",
      "execution_count": null,
      "metadata": {
        "colab": {
          "base_uri": "https://localhost:8080/"
        },
        "id": "iSwG3t9bQMcR",
        "outputId": "3320e148-5dbc-41c9-b223-e88aeec01544"
      },
      "outputs": [
        {
          "name": "stdout",
          "output_type": "stream",
          "text": [
            "1437000\n",
            "1.44\n",
            "A cidade conseguiu imunidade coletiva em 15 dias.\n"
          ]
        }
      ],
      "source": [
        "P = int(input())\n",
        "TxContagio = float(input())\n",
        "\n",
        "Ct0 = 1584\n",
        "NumDiasImunidade = 0\n",
        "imunizados = Ct0\n",
        "\n",
        "while imunizados < 0.7 * P:\n",
        "    NumDiasImunidade += 1\n",
        "    Cti = Ct0 * (TxContagio ** NumDiasImunidade)\n",
        "    imunizados += Cti\n",
        "\n",
        "print(f\"A cidade conseguiu imunidade coletiva em {NumDiasImunidade} dias.\")\n"
      ]
    },
    {
      "cell_type": "markdown",
      "source": [
        "  4. Uma loja de departamento criou uma promoção na qual cada cliente que gaste mais de 327 Reais em uma compra terá direito a 2 jogadas de um Dado de seis faces. Escreva um programa para processar a promoção com base nas seguintes regras:\n",
        "\n",
        "  Se ocorrer a face 6 na primeira jogada, o cliente ganha 528 Reais.\n",
        "  Se a soma do valor de face das duas jogadas ultrapassar 9 pontos, o cliente ganha 1092 Reais (coluna qmais na tabela de saída abaixo).\n",
        "  As duas jogadas são cumulativas em termos de premiação, ou seja, o prêmio total do cliente é o que ele ganhou na primeira jogada mais o que ganhou na segunda jogada.\n",
        "\n",
        "  O programa deve ler, para cada cliente, o seguinte:\n",
        "\n",
        "  a) O valor da compra que o cliente fez;\n",
        "  \n",
        "  b) A pontuação obtida em cada jogada do Dado, caso o cliente esteja habilitado a participar da promoção.\n",
        "\n",
        "  O programa deve ser encerrado quando o total da premiação do dia (2347 Reais) for esgotado (zerado). A loja complementará o prêmio do último participante caso o valor restante seja insuficiente.\n",
        "\n",
        "  O programa deve imprimir um relatório (veja a formatação no exemplo abaixo) exibindo os dados apenas dos clientes com compras superiores a 327 Reais. Em cada coluna da tabela que aparece no relatório deve ser registrado o seguinte:\n",
        "\n",
        "  coluna valor = valor da compra que o cliente fez;\n",
        "  coluna tent1 = valor de face do Dado obtido na primeira jogada;\n",
        "  coluna tent2 = valor de face do Dado obtido na segunda jogada;\n",
        "  coluna total = número (acumulado) de clientes aptos a jogar, que fizeram compras superiores a 327 Reais;\n",
        "  coluna qmais = número (acumulado) de jogadores que obtiveram valor de face total (soma das duas jogadas) maior do que 9;\n",
        "  coluna qsetor6 = número (acumulado) de jogadores que obtiveram a face 6 na primeira ou segunda jogada do Dado;\n",
        "  coluna premio = valor disponível destinado à premiação do dia (quando ficar negativo, a loja irá complementar o prêmio do último participante).\n",
        "\n",
        "## Exemplo de entradas:\n",
        "860\n",
        "\n",
        "3\n",
        "\n",
        "5\n",
        "\n",
        "918\n",
        "\n",
        "6\n",
        "\n",
        "4\n",
        "\n",
        "426\n",
        "\n",
        "6\n",
        "\n",
        "5\n",
        "\n",
        " ATENÇÃO - Para que os dados saiam alinhados (colunas), use a seguinte formatação para os respectivos dados: %5d %5d %5d %5d %7d %6d.\n",
        "  valor; tent1; tent2; total; qmais; qsetor6; premio\n",
        "  \n",
        "  860;     3;     5;     1;     0;       0;   2347\n",
        "  \n",
        "  918;     6;     4;     2;     1;       1;    727\n",
        "  \n",
        "  426;     6;     5;     3;     2;       2;   -893\n",
        "\n",
        "\n",
        "\n",
        "Premio =   2347\n",
        "\n",
        "Total de participantes =      3\n",
        "\n",
        "Quant. clientes gastaram no máximo 327.00  =      0\n",
        "\n",
        "Clientes acertaram 6 na 1a tent. =      2\n",
        "\n",
        "Porcentagem clientes acertaram mais que 9 =   66.7\n"
      ],
      "metadata": {
        "id": "aQnEtLP5-oBJ"
      }
    },
    {
      "cell_type": "code",
      "execution_count": 39,
      "metadata": {
        "colab": {
          "base_uri": "https://localhost:8080/",
          "height": 658
        },
        "id": "oXAhQ3_wESsa",
        "outputId": "03f66015-4a8d-4190-d422-066952b80e00"
      },
      "outputs": [
        {
          "output_type": "stream",
          "name": "stdout",
          "text": [
            "860\n",
            "3\n",
            "5\n",
            "3 2347\n",
            "valor tent1 tent2 total qmais qsetor6 premio\n",
            "\n",
            "860    3     5      1     0     0     2347\n",
            "918\n",
            "6\n",
            "4\n",
            "1 528\n",
            "2 1620\n",
            "3 727\n",
            "valor tent1 tent2 total qmais qsetor6 premio\n",
            "\n",
            "918    6     4      2     1     1      727\n"
          ]
        },
        {
          "output_type": "error",
          "ename": "KeyboardInterrupt",
          "evalue": "ignored",
          "traceback": [
            "\u001b[0;31m---------------------------------------------------------------------------\u001b[0m",
            "\u001b[0;31mKeyboardInterrupt\u001b[0m                         Traceback (most recent call last)",
            "\u001b[0;32m<ipython-input-39-9597ae77c9df>\u001b[0m in \u001b[0;36m<cell line: 5>\u001b[0;34m()\u001b[0m\n\u001b[1;32m      4\u001b[0m \u001b[0mqsetor6\u001b[0m\u001b[0;34m=\u001b[0m\u001b[0;36m0\u001b[0m\u001b[0;34m\u001b[0m\u001b[0;34m\u001b[0m\u001b[0m\n\u001b[1;32m      5\u001b[0m \u001b[0;32mwhile\u001b[0m \u001b[0mloja\u001b[0m \u001b[0;34m>\u001b[0m \u001b[0;36m0\u001b[0m\u001b[0;34m:\u001b[0m\u001b[0;34m\u001b[0m\u001b[0;34m\u001b[0m\u001b[0m\n\u001b[0;32m----> 6\u001b[0;31m   \u001b[0mgast\u001b[0m\u001b[0;34m=\u001b[0m\u001b[0mint\u001b[0m\u001b[0;34m(\u001b[0m\u001b[0minput\u001b[0m\u001b[0;34m(\u001b[0m\u001b[0;34m)\u001b[0m\u001b[0;34m)\u001b[0m\u001b[0;34m\u001b[0m\u001b[0;34m\u001b[0m\u001b[0m\n\u001b[0m\u001b[1;32m      7\u001b[0m   \u001b[0mganhou\u001b[0m\u001b[0;34m=\u001b[0m\u001b[0;36m0\u001b[0m\u001b[0;34m\u001b[0m\u001b[0;34m\u001b[0m\u001b[0m\n\u001b[1;32m      8\u001b[0m   \u001b[0;32mif\u001b[0m \u001b[0mgast\u001b[0m \u001b[0;34m>\u001b[0m \u001b[0;36m327\u001b[0m\u001b[0;34m:\u001b[0m\u001b[0;34m\u001b[0m\u001b[0;34m\u001b[0m\u001b[0m\n",
            "\u001b[0;32m/usr/local/lib/python3.10/dist-packages/ipykernel/kernelbase.py\u001b[0m in \u001b[0;36mraw_input\u001b[0;34m(self, prompt)\u001b[0m\n\u001b[1;32m    849\u001b[0m                 \u001b[0;34m\"raw_input was called, but this frontend does not support input requests.\"\u001b[0m\u001b[0;34m\u001b[0m\u001b[0;34m\u001b[0m\u001b[0m\n\u001b[1;32m    850\u001b[0m             )\n\u001b[0;32m--> 851\u001b[0;31m         return self._input_request(str(prompt),\n\u001b[0m\u001b[1;32m    852\u001b[0m             \u001b[0mself\u001b[0m\u001b[0;34m.\u001b[0m\u001b[0m_parent_ident\u001b[0m\u001b[0;34m,\u001b[0m\u001b[0;34m\u001b[0m\u001b[0;34m\u001b[0m\u001b[0m\n\u001b[1;32m    853\u001b[0m             \u001b[0mself\u001b[0m\u001b[0;34m.\u001b[0m\u001b[0m_parent_header\u001b[0m\u001b[0;34m,\u001b[0m\u001b[0;34m\u001b[0m\u001b[0;34m\u001b[0m\u001b[0m\n",
            "\u001b[0;32m/usr/local/lib/python3.10/dist-packages/ipykernel/kernelbase.py\u001b[0m in \u001b[0;36m_input_request\u001b[0;34m(self, prompt, ident, parent, password)\u001b[0m\n\u001b[1;32m    893\u001b[0m             \u001b[0;32mexcept\u001b[0m \u001b[0mKeyboardInterrupt\u001b[0m\u001b[0;34m:\u001b[0m\u001b[0;34m\u001b[0m\u001b[0;34m\u001b[0m\u001b[0m\n\u001b[1;32m    894\u001b[0m                 \u001b[0;31m# re-raise KeyboardInterrupt, to truncate traceback\u001b[0m\u001b[0;34m\u001b[0m\u001b[0;34m\u001b[0m\u001b[0m\n\u001b[0;32m--> 895\u001b[0;31m                 \u001b[0;32mraise\u001b[0m \u001b[0mKeyboardInterrupt\u001b[0m\u001b[0;34m(\u001b[0m\u001b[0;34m\"Interrupted by user\"\u001b[0m\u001b[0;34m)\u001b[0m \u001b[0;32mfrom\u001b[0m \u001b[0;32mNone\u001b[0m\u001b[0;34m\u001b[0m\u001b[0;34m\u001b[0m\u001b[0m\n\u001b[0m\u001b[1;32m    896\u001b[0m             \u001b[0;32mexcept\u001b[0m \u001b[0mException\u001b[0m \u001b[0;32mas\u001b[0m \u001b[0me\u001b[0m\u001b[0;34m:\u001b[0m\u001b[0;34m\u001b[0m\u001b[0;34m\u001b[0m\u001b[0m\n\u001b[1;32m    897\u001b[0m                 \u001b[0mself\u001b[0m\u001b[0;34m.\u001b[0m\u001b[0mlog\u001b[0m\u001b[0;34m.\u001b[0m\u001b[0mwarning\u001b[0m\u001b[0;34m(\u001b[0m\u001b[0;34m\"Invalid Message:\"\u001b[0m\u001b[0;34m,\u001b[0m \u001b[0mexc_info\u001b[0m\u001b[0;34m=\u001b[0m\u001b[0;32mTrue\u001b[0m\u001b[0;34m)\u001b[0m\u001b[0;34m\u001b[0m\u001b[0;34m\u001b[0m\u001b[0m\n",
            "\u001b[0;31mKeyboardInterrupt\u001b[0m: Interrupted by user"
          ]
        }
      ],
      "source": [
        "loja=2347\n",
        "total=0\n",
        "qmais=0\n",
        "qsetor6=0\n",
        "while loja > 0:\n",
        "  gast=int(input())\n",
        "  ganhou=0\n",
        "  if gast > 327:\n",
        "    tent1=int(input())\n",
        "    tent2=int(input())\n",
        "    total+=1\n",
        "    if tent1 == 6 or tent2 == 6:\n",
        "      qsetor6+=1\n",
        "      if tent1 == 6:\n",
        "        ganhou+=528\n",
        "        if tent1+tent2 > 9:\n",
        "          ganhou+=1092\n",
        "          qmais+=1\n",
        "    loja-=ganhou\n",
        "    print(\"valor tent1 tent2 total qmais qsetor6 premio\\n\")\n",
        "    print(f\"{gast}{tent1:5}{tent2:6}{total:7}{qmais:6}{qsetor6:6}{loja:9}\")\n",
        "  else:\n",
        "    print(\"ops\")\n"
      ]
    }
  ],
  "metadata": {
    "colab": {
      "provenance": [],
      "mount_file_id": "1xgwPXksBijYcoLJi9WGSuSjszGo2O9cV",
      "authorship_tag": "ABX9TyOiJwBTYIMjPbOret/VyWMX",
      "include_colab_link": true
    },
    "kernelspec": {
      "display_name": "Python 3",
      "name": "python3"
    },
    "language_info": {
      "name": "python"
    }
  },
  "nbformat": 4,
  "nbformat_minor": 0
}